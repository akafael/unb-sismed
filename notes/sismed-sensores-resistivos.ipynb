{
 "cells": [
  {
   "cell_type": "markdown",
   "metadata": {
    "deletable": true,
    "editable": true
   },
   "source": [
    "# Aula 1 - Sensores Resistivos"
   ]
  },
  {
   "cell_type": "markdown",
   "metadata": {
    "deletable": true,
    "editable": true
   },
   "source": [
    "<style>\n",
    ".output {\n",
    "    align-items: center;\n",
    "}\n",
    "</style>\n",
    "<script>\n",
    "  function code_toggle() {\n",
    "    if (code_shown){\n",
    "      $('div.input').hide('500');\n",
    "      $('#toggleButton').val('Show Code')\n",
    "    } else {\n",
    "      $('div.input').show('500');\n",
    "      $('#toggleButton').val('Hide Code')\n",
    "    }\n",
    "    code_shown = !code_shown\n",
    "  }\n",
    "  $( document ).ready(function(){\n",
    "    code_shown=false;\n",
    "    $('div.input').hide()\n",
    "  });\n",
    "</script>\n",
    "<form action=\"javascript:code_toggle()\"><input type=\"submit\" id=\"toggleButton\" value=\"Show Code\"></form>"
   ]
  },
  {
   "cell_type": "code",
   "execution_count": 1,
   "metadata": {
    "collapsed": true,
    "deletable": true,
    "editable": true
   },
   "outputs": [],
   "source": [
    "# Important Libraries\n",
    "import sympy as sp\n",
    "import numpy as np\n",
    "\n",
    "# Display Settings\n",
    "from sympy.interactive import printing\n",
    "from IPython.display import display, Latex, Markdown, Math\n",
    "\n",
    "printing.init_printing(use_latex=True)\n",
    "def mydisp(textvar,contentvar):\n",
    "    display(Math(textvar+\" = \"+sp.latex(contentvar)))"
   ]
  },
  {
   "cell_type": "markdown",
   "metadata": {
    "deletable": true,
    "editable": true
   },
   "source": [
    "# Ponte de Wheatstone\n",
    "\n",
    "A ponte de Wheatstone é um circuito bastante utilizado para converter o valor de uma variação de resistência em uma variação de tensão, possibilitando assim sua medida. É constituido por quatro resistências ligadas a uma fonte de tensão como ilustrado logo abaixo:\n",
    "\n",
    "![wheatstone bridge](https://upload.wikimedia.org/wikipedia/commons/thumb/9/93/Wheatstonebridge.svg/363px-Wheatstonebridge.svg.png)\n",
    "\n",
    "Podemos obter a relação entre as resistências avaliando o circuito pela lei. Desta maneira teremos as seguinte equação:"
   ]
  },
  {
   "cell_type": "code",
   "execution_count": 2,
   "metadata": {
    "collapsed": false,
    "deletable": true,
    "editable": true,
    "scrolled": true
   },
   "outputs": [
    {
     "data": {
      "text/latex": [
       "$$V_G = - \\frac{R_{2} V_{b}}{R_{1} + R_{2}} + \\frac{R_{x} V_{b}}{R_{3} + R_{x}}$$"
      ],
      "text/plain": [
       "<IPython.core.display.Math object>"
      ]
     },
     "metadata": {},
     "output_type": "display_data"
    },
    {
     "data": {
      "text/latex": [
       "$$V_G = \\frac{V_{b} \\left(R_{1} R_{x} - R_{2} R_{3}\\right)}{R_{1} R_{3} + R_{1} R_{x} + R_{2} R_{3} + R_{2} R_{x}}$$"
      ],
      "text/plain": [
       "<IPython.core.display.Math object>"
      ]
     },
     "metadata": {},
     "output_type": "display_data"
    }
   ],
   "source": [
    "Vb, R1,R2,R3,Rx = sp.symbols(\"V_b R_1 R_2 R_3 R_x\",real=True)\n",
    "\n",
    "Vd = Vb*R2/(R1+R2)\n",
    "Vb = Vb*Rx/(Rx+R3)\n",
    "\n",
    "Vg = Vb - Vd\n",
    "mydisp(\"V_G\",Vg)\n",
    "\n",
    "# Rescrevendo a equação\n",
    "Vg = ((Vg*((Rx+R3)*(R1+R2))).expand()/((Rx+R3)*(R1+R2))).simplify()\n",
    "mydisp(\"V_G\",Vg)"
   ]
  },
  {
   "cell_type": "markdown",
   "metadata": {
    "deletable": true,
    "editable": true
   },
   "source": [
    "Assumindo $R_2 = 0$ e $R_1 = R_2 = R$ temos"
   ]
  },
  {
   "cell_type": "code",
   "execution_count": 3,
   "metadata": {
    "collapsed": false,
    "deletable": true,
    "editable": true
   },
   "outputs": [
    {
     "data": {
      "text/latex": [
       "$$V_G = \\frac{R_{x} V_{b}}{R + R_{x}}$$"
      ],
      "text/plain": [
       "<IPython.core.display.Math object>"
      ]
     },
     "metadata": {},
     "output_type": "display_data"
    }
   ],
   "source": [
    "R = sp.symbols(\"R\")\n",
    "dR =sp.symbols(\"Delta_R\")\n",
    "\n",
    "Vg1 = Vg.subs([(R1,R),(R2,0),(R3,R)]).simplify()\n",
    "mydisp(\"V_G\",Vg1)"
   ]
  },
  {
   "cell_type": "markdown",
   "metadata": {
    "deletable": true,
    "editable": true
   },
   "source": [
    "## Potênciometro\n",
    "\n",
    "![potentiometer](https://upload.wikimedia.org/wikipedia/commons/thumb/c/c9/Potentiometer_with_load.svg/474px-Potentiometer_with_load.svg.png)\n",
    "\n",
    "Supondo $R = R_1 + R_2$ , $V_0$ como a tensão medida em $R_2$ e $x = \\frac{R_1}{R_2}$ temos que a tensão de saída num caso ideal, isto é com $R_L = 0$ temos que a tensão de saída será"
   ]
  },
  {
   "cell_type": "code",
   "execution_count": 4,
   "metadata": {
    "collapsed": false,
    "deletable": true,
    "editable": true
   },
   "outputs": [
    {
     "data": {
      "text/latex": [
       "$$V_0 = V_{s} x$$"
      ],
      "text/plain": [
       "<IPython.core.display.Math object>"
      ]
     },
     "metadata": {},
     "output_type": "display_data"
    }
   ],
   "source": [
    "'''\n",
    " Variáveis Potênciometro\n",
    " R: Resistência Total Potênciometro\n",
    " x: Fração do Comprimento Total do Potênciometro\n",
    " Vi: Tensão de Entrada do Potênciometro\n",
    " Vo: Tensão de Saída do Potênciometro\n",
    "'''\n",
    "R, x, Vi = sp.symbols(\"R x V_s\");\n",
    "\n",
    "# Modelo Sem Carga\n",
    "Vo = Vi*x\n",
    "\n",
    "mydisp(\"V_0\",Vo)"
   ]
  },
  {
   "cell_type": "markdown",
   "metadata": {
    "deletable": true,
    "editable": true
   },
   "source": [
    "Para $R_L > 0$, temos"
   ]
  },
  {
   "cell_type": "code",
   "execution_count": 5,
   "metadata": {
    "collapsed": false,
    "deletable": true,
    "editable": true
   },
   "outputs": [
    {
     "data": {
      "text/latex": [
       "$$V_0 = \\frac{R_{L} V_{s} x}{R x \\left(- x + 1\\right) + R_{L}}$$"
      ],
      "text/plain": [
       "<IPython.core.display.Math object>"
      ]
     },
     "metadata": {},
     "output_type": "display_data"
    }
   ],
   "source": [
    "'''\n",
    "Rl: Resistência da Carga\n",
    "Vol: Tensão\n",
    "'''\n",
    "Rl = sp.Symbol(\"R_L\");\n",
    "# Modelo Acrescido da Carga\n",
    "Vol = Vi*x*(Rl/(R*x*(1-x)+Rl))\n",
    "mydisp(\"V_0\",Vol)"
   ]
  },
  {
   "cell_type": "markdown",
   "metadata": {
    "deletable": true,
    "editable": true
   },
   "source": [
    "Fazendo $k = \\frac{R_l}{R}$ e substituindo em $V_0$ temos"
   ]
  },
  {
   "cell_type": "code",
   "execution_count": 6,
   "metadata": {
    "collapsed": false,
    "deletable": true,
    "editable": true
   },
   "outputs": [
    {
     "data": {
      "text/latex": [
       "$$V_0 = \\frac{V_{s} x}{1 + \\frac{x}{k} \\left(- x + 1\\right)}$$"
      ],
      "text/plain": [
       "<IPython.core.display.Math object>"
      ]
     },
     "metadata": {},
     "output_type": "display_data"
    }
   ],
   "source": [
    "# Estudo Modelo Acrescido da Carga\n",
    "k = sp.symbols(\"k\") # Rl/R\n",
    "Vol2 = Vi*x*(1/(x*(1-x)/k +1))\n",
    "mydisp(\"V_0\",Vol2)"
   ]
  },
  {
   "cell_type": "markdown",
   "metadata": {
    "deletable": true,
    "editable": true
   },
   "source": [
    "# Anemômetro de fio quente\n",
    "\n",
    "O anemômetro de fio quente é um sensor bastante simples e comum usado para medir o fluxo de ar em uma tubulação. É costituido de um fio de baixa resistência o qual é submetido a uma tensão constante. O fio esquenta dissipando calor pelo efeito Joule. Parte deste calor é dissipado pelo fenômeno da convecção e por consequência o a resistência do fio é alterada e pode ser medida através de uma [ponte de wheatstone](#Ponte-de-Wheatstone) [1].\n",
    "\n",
    "\n",
    "[1]: http://www.dee.ufrn.br/~luciano/arquivos/ins_ele/Apresenta%E7%F5es_2008_2/CAYO%20CID/Instrumentao_Eletrnica_Cayo_Cid_200321285_AFQ.pdf\n",
    "[2]: http://www.abcm.org.br/anais/conem/2010/PDF/CON10-1587.pdf"
   ]
  }
 ],
 "metadata": {
  "kernelspec": {
   "display_name": "Python 2",
   "language": "python",
   "name": "python2"
  },
  "language_info": {
   "codemirror_mode": {
    "name": "ipython",
    "version": 2
   },
   "file_extension": ".py",
   "mimetype": "text/x-python",
   "name": "python",
   "nbconvert_exporter": "python",
   "pygments_lexer": "ipython2",
   "version": "2.7.6"
  }
 },
 "nbformat": 4,
 "nbformat_minor": 2
}
